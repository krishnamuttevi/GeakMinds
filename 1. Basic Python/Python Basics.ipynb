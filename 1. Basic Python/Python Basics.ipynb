{
  "nbformat": 4,
  "nbformat_minor": 0,
  "metadata": {
    "colab": {
      "provenance": []
    },
    "kernelspec": {
      "name": "python3",
      "display_name": "Python 3"
    },
    "language_info": {
      "name": "python"
    }
  },
  "cells": [
    {
      "cell_type": "markdown",
      "source": [
        "# Control Statements\n",
        "\n"
      ],
      "metadata": {
        "id": "c3rD_ncrvpjv"
      }
    },
    {
      "cell_type": "markdown",
      "source": [
        "## Prime Number Checker\n",
        "\n"
      ],
      "metadata": {
        "id": "zvGzkAaZwDAm"
      }
    },
    {
      "cell_type": "code",
      "execution_count": null,
      "metadata": {
        "colab": {
          "base_uri": "https://localhost:8080/"
        },
        "id": "5ZGMIGN_vWw1",
        "outputId": "fcf88326-e5b9-4020-e96c-e31c83994ef1"
      },
      "outputs": [
        {
          "output_type": "stream",
          "name": "stdout",
          "text": [
            "Enter a number: 1\n",
            "1 is a prime number\n"
          ]
        }
      ],
      "source": [
        "import math\n",
        "x=int(input('Enter a number: '))\n",
        "flg=1\n",
        "for i in range(2,int(math.sqrt(x))+1,1):\n",
        "  if x%i==0:\n",
        "    flg=0\n",
        "    break\n",
        "if flg:\n",
        "  print(f'{x} is a prime number')\n",
        "else:\n",
        "  print(f'{x} is not a prime number')"
      ]
    },
    {
      "cell_type": "markdown",
      "source": [
        "## Leap Year Checker"
      ],
      "metadata": {
        "id": "CoPxOzYv4GgH"
      }
    },
    {
      "cell_type": "code",
      "source": [
        "x=int(input('Enter a year: '))\n",
        "if (x % 4 ==0 and (x%100!=0)) or x%400==0:\n",
        "  print(f'{x} is a leap year')\n",
        "else:\n",
        "  print(f'{x} is not a leap year')\n"
      ],
      "metadata": {
        "colab": {
          "base_uri": "https://localhost:8080/"
        },
        "id": "6wvyUeSWzV1V",
        "outputId": "08b24a7e-a859-483d-9e45-72fd3a61e3b6"
      },
      "execution_count": null,
      "outputs": [
        {
          "output_type": "stream",
          "name": "stdout",
          "text": [
            "Enter a year: 400\n",
            "400 is a leap year\n"
          ]
        }
      ]
    },
    {
      "cell_type": "markdown",
      "source": [
        "## Largest of Three Numbers"
      ],
      "metadata": {
        "id": "Qx69-e8h5p4I"
      }
    },
    {
      "cell_type": "code",
      "source": [
        "arr= list(map(int,input('enter 3 numbers :').split()))\n",
        "if len(arr) !=3:\n",
        "  print('enter exactly 3 numbers')\n",
        "else:\n",
        "  maxi=arr[0]\n",
        "  for i in range(len(arr)):\n",
        "    if arr[i]>maxi:\n",
        "      maxi = arr[i]\n",
        "  print(maxi)\n"
      ],
      "metadata": {
        "colab": {
          "base_uri": "https://localhost:8080/"
        },
        "id": "z3OYtrHm5bNl",
        "outputId": "1f069fb0-9907-4b6e-f76c-3f878d7efc61"
      },
      "execution_count": null,
      "outputs": [
        {
          "output_type": "stream",
          "name": "stdout",
          "text": [
            "enter 3 numbers :3123 6543 63\n",
            "6543\n"
          ]
        }
      ]
    },
    {
      "cell_type": "markdown",
      "source": [
        "# Grading System"
      ],
      "metadata": {
        "id": "dj3csqQMAt92"
      }
    },
    {
      "cell_type": "code",
      "source": [
        "x=int(input('Enter a number: '))\n",
        "grade='Unknown'\n",
        "# match case a - 90 -10 b- 70 to 90 c- 50-70 d-40-50 fail <40\n",
        "if x>90:\n",
        "  grade='A'\n",
        "  print(f'Grade of {x} is {grade}')"
      ],
      "metadata": {
        "colab": {
          "base_uri": "https://localhost:8080/"
        },
        "id": "MidSLDcN6dLk",
        "outputId": "58488e29-6c6e-46c5-de47-1af2cbf6dbd8"
      },
      "execution_count": null,
      "outputs": [
        {
          "name": "stdout",
          "output_type": "stream",
          "text": [
            "Enter a number: 90\n"
          ]
        }
      ]
    },
    {
      "cell_type": "markdown",
      "source": [
        "# Triangle Validity"
      ],
      "metadata": {
        "id": "sMuv2X5ABUjz"
      }
    },
    {
      "cell_type": "code",
      "source": [
        "a,b,c=map(float,input('enter the lengths of 3 triangle sides').split())\n",
        "if a+b>c and b+c>a and c+a>b:\n",
        "  print('Triangle is valid')\n",
        "else:\n",
        "  print('Not a valid triangle')"
      ],
      "metadata": {
        "colab": {
          "base_uri": "https://localhost:8080/"
        },
        "id": "XjLFMY5aBPgJ",
        "outputId": "36e8d3a7-1928-494d-9c06-4394ca33deff"
      },
      "execution_count": null,
      "outputs": [
        {
          "output_type": "stream",
          "name": "stdout",
          "text": [
            "enter the lengths of 3 triangle sides100 1000 1\n",
            "Not a valid triangle\n"
          ]
        }
      ]
    },
    {
      "cell_type": "markdown",
      "source": [
        "## Palindrome Number"
      ],
      "metadata": {
        "id": "EO4qBYKuDLDw"
      }
    },
    {
      "cell_type": "code",
      "source": [
        "x= int(input('enter the number :'))\n",
        "revx=0\n",
        "temp=x\n",
        "while temp>0:\n",
        "  revx=revx*10+temp%10\n",
        "  temp//=10\n",
        "if x==revx:\n",
        "  print('palindrome')\n",
        "else :\n",
        "  print('not a palindrome')\n"
      ],
      "metadata": {
        "colab": {
          "base_uri": "https://localhost:8080/"
        },
        "id": "6zGVOBLvCZee",
        "outputId": "29d44ddd-0876-4256-8f7d-eedc5d38d83b"
      },
      "execution_count": null,
      "outputs": [
        {
          "output_type": "stream",
          "name": "stdout",
          "text": [
            "enter the number :4645464\n",
            "palindrome\n"
          ]
        }
      ]
    },
    {
      "cell_type": "markdown",
      "source": [
        "# Armstrong Number"
      ],
      "metadata": {
        "id": "sVBDj276GycP"
      }
    },
    {
      "cell_type": "code",
      "source": [
        "import math\n",
        "x=int(input('enter the number :'))\n",
        "temp=x\n",
        "len=math.floor(math.log(x,10))+1\n",
        "sum=0\n",
        "for i in range(len):\n",
        "  sum+=(temp%10)**len\n",
        "  temp//=10\n",
        "if x==sum:\n",
        "  print('armstrong number')\n",
        "else:\n",
        "  print('not an armstrong number')\n"
      ],
      "metadata": {
        "colab": {
          "base_uri": "https://localhost:8080/"
        },
        "id": "46T-51anD-OP",
        "outputId": "d0f418cd-3355-44cf-a4be-ba8feec149be"
      },
      "execution_count": null,
      "outputs": [
        {
          "output_type": "stream",
          "name": "stdout",
          "text": [
            "enter the number :1634\n",
            "armstrong number\n"
          ]
        }
      ]
    },
    {
      "cell_type": "markdown",
      "source": [
        "## Sum of Even and Odd Numbers"
      ],
      "metadata": {
        "id": "OBbc5Js7Gxc8"
      }
    },
    {
      "cell_type": "code",
      "source": [
        "def iseven(x):\n",
        "  if x%2==0:\n",
        "    return True\n",
        "  else:\n",
        "    return False\n",
        "x=int(input('enter the number :'))\n",
        "even_sum=0\n",
        "odd_sum=0\n",
        "for i in range(x+1):\n",
        "  if iseven(i):\n",
        "    even_sum+=i\n",
        "  else:\n",
        "    odd_sum+=i\n",
        "print(f'sum of even numbers : {even_sum}')\n",
        "print(f'sum of odd numbers : {odd_sum}')\n"
      ],
      "metadata": {
        "colab": {
          "base_uri": "https://localhost:8080/"
        },
        "id": "LDXc8QkrISPp",
        "outputId": "192415af-2e9e-410e-eabe-38fc2b1d15d5"
      },
      "execution_count": null,
      "outputs": [
        {
          "output_type": "stream",
          "name": "stdout",
          "text": [
            "enter the number :10\n",
            "sum of even numbers : 30\n",
            "sum of odd numbers : 25\n"
          ]
        }
      ]
    },
    {
      "cell_type": "markdown",
      "source": [
        "## Fibonacci Sequence"
      ],
      "metadata": {
        "id": "lQ50ICf2JFAI"
      }
    },
    {
      "cell_type": "code",
      "source": [
        "x=int(input('enter the level of fibonaci :'))\n",
        "print(\"Fibonacci Sequence : 0  1\",end='  ')\n",
        "c=1\n",
        "p=0\n",
        "for i in range(x-2):\n",
        "  t=c\n",
        "  c=c+p\n",
        "  p=t\n",
        "  print(f'{c}',end='  ')\n"
      ],
      "metadata": {
        "colab": {
          "base_uri": "https://localhost:8080/"
        },
        "id": "i9AEhvslIx52",
        "outputId": "b04e66da-247e-4cf5-fcc1-ee26fe72086c"
      },
      "execution_count": null,
      "outputs": [
        {
          "output_type": "stream",
          "name": "stdout",
          "text": [
            "enter the level of fibonaci :10\n",
            "Fibonacci Sequence : 0  1  1  2  3  5  8  13  21  34  "
          ]
        }
      ]
    },
    {
      "cell_type": "markdown",
      "source": [
        "## Factorial Calculator"
      ],
      "metadata": {
        "id": "fQO0HEpgKtR7"
      }
    },
    {
      "cell_type": "code",
      "source": [
        "def factorial_calculator(x):\n",
        "  if x in (1,0):\n",
        "    return 1\n",
        "  else:\n",
        "    return (x*factorial_calculator(x-1))\n",
        "x=int(input('enter the number :'))\n",
        "print(f'Factorial of {x} is {factorial_calculator(x)}')"
      ],
      "metadata": {
        "colab": {
          "base_uri": "https://localhost:8080/"
        },
        "id": "IoMEEOU_KKgl",
        "outputId": "25888471-c2a4-4c3a-8f8e-c88f3e2dc770"
      },
      "execution_count": null,
      "outputs": [
        {
          "output_type": "stream",
          "name": "stdout",
          "text": [
            "enter the number :5\n",
            "Factorial of 5 is 120\n"
          ]
        }
      ]
    },
    {
      "cell_type": "markdown",
      "source": [
        "# Strings"
      ],
      "metadata": {
        "id": "s_tqjUO7MbL6"
      }
    },
    {
      "cell_type": "markdown",
      "source": [
        "## Reverse a String:"
      ],
      "metadata": {
        "id": "AiJljNBgMdbi"
      }
    },
    {
      "cell_type": "code",
      "source": [
        "strn=input('enter string :')\n",
        "def reverse_string(s):\n",
        "    reversed_str = \"\"\n",
        "    for char in s:\n",
        "      reversed_str = char + reversed_str\n",
        "    return reversed_str\n",
        "print(f'reversed str = {reverse_string(strn)}')\n"
      ],
      "metadata": {
        "colab": {
          "base_uri": "https://localhost:8080/"
        },
        "id": "3X_vbXiPMVyK",
        "outputId": "dcd72aef-5ca3-46d9-d230-fafc8b951d76"
      },
      "execution_count": null,
      "outputs": [
        {
          "output_type": "stream",
          "name": "stdout",
          "text": [
            "enter string :krishna\n",
            "reversed str = anhsirk\n"
          ]
        }
      ]
    },
    {
      "cell_type": "markdown",
      "source": [
        "## Count Vowels and Consonants"
      ],
      "metadata": {
        "id": "gJZJMiB1Zvgf"
      }
    },
    {
      "cell_type": "code",
      "source": [
        "strn=input('enter string with only alphabets :')\n",
        "def count_vowels_consonants(s):\n",
        "    vowels = ['a','e','i','o','u']\n",
        "    vow_count=0\n",
        "    cons_count=0\n",
        "    s=s.lower()\n",
        "    s=s.strip()\n",
        "    for i in s:\n",
        "      if i in vowels:\n",
        "        vow_count+=1\n",
        "      else:\n",
        "        cons_count+=1\n",
        "    return vow_count,cons_count\n",
        "vow_count,cons_count=count_vowels_consonants(strn)\n",
        "print(f'vowels count = {vow_count}')\n",
        "print(f'consonants count = {cons_count}')\n"
      ],
      "metadata": {
        "colab": {
          "base_uri": "https://localhost:8080/"
        },
        "id": "fEtN7X4LNRL3",
        "outputId": "c5129f8b-962d-4629-b059-609ef8e600b6"
      },
      "execution_count": null,
      "outputs": [
        {
          "output_type": "stream",
          "name": "stdout",
          "text": [
            "enter string with only alphabets :abc\n",
            "vowels count = 1\n",
            "consonants count = 2\n"
          ]
        }
      ]
    },
    {
      "cell_type": "markdown",
      "source": [
        "## Check Substring"
      ],
      "metadata": {
        "id": "IVbwmdoXcfgf"
      }
    },
    {
      "cell_type": "code",
      "source": [
        "s1=input('enter string 1 : ')\n",
        "s2=input('enter string 2 : ')\n",
        "def check_substring(s1,s2):\n",
        "  if s2 in s1:\n",
        "    return True\n",
        "  else:\n",
        "    return False\n",
        "print(check_substring(s1,s2))"
      ],
      "metadata": {
        "colab": {
          "base_uri": "https://localhost:8080/"
        },
        "id": "dYvjv5iXNkPG",
        "outputId": "d1fdac4a-ca86-4e67-d011-19761673ff63"
      },
      "execution_count": null,
      "outputs": [
        {
          "output_type": "stream",
          "name": "stdout",
          "text": [
            "enter string 1 : krishna\n",
            "enter string 2 : krish\n",
            "True\n"
          ]
        }
      ]
    },
    {
      "cell_type": "markdown",
      "source": [
        "## String Anagram Check"
      ],
      "metadata": {
        "id": "Ilx8Pwi9dDMA"
      }
    },
    {
      "cell_type": "code",
      "source": [
        "s1=input('enter string 1 : ')\n",
        "s2=input('enter string 2 : ')\n",
        "def metadata(s):\n",
        "  dic=dict()\n",
        "  for i in s:\n",
        "    if i in dic.keys():\n",
        "      dic[i]+=1\n",
        "    else:\n",
        "      dic[i]=1\n",
        "  return dic\n",
        "if metadata(s1)==metadata(s2):\n",
        "  print('anagram')\n",
        "else:\n",
        "  print('not an anagram')\n"
      ],
      "metadata": {
        "colab": {
          "base_uri": "https://localhost:8080/"
        },
        "id": "CJAL7Izabhj-",
        "outputId": "13e98611-e9fc-43ca-bea4-b634ecd8bb86"
      },
      "execution_count": null,
      "outputs": [
        {
          "output_type": "stream",
          "name": "stdout",
          "text": [
            "enter string 1 : listen\n",
            "enter string 2 : silent\n",
            "anagram\n"
          ]
        }
      ]
    },
    {
      "cell_type": "markdown",
      "source": [
        "## Remove Duplicates"
      ],
      "metadata": {
        "id": "QBB4HOqWd1tg"
      }
    },
    {
      "cell_type": "code",
      "source": [
        "s1=input('enter string 1 : ')\n",
        "lis=list(s1)\n",
        "print(f'Duplicates removed string: {\"\".join(set(lis))}')"
      ],
      "metadata": {
        "colab": {
          "base_uri": "https://localhost:8080/"
        },
        "id": "SNRPV0F8dtMt",
        "outputId": "f5810f1a-0a5e-4ff6-e14f-73f9175b379e"
      },
      "execution_count": null,
      "outputs": [
        {
          "output_type": "stream",
          "name": "stdout",
          "text": [
            "enter string 1 : hello\n",
            "Duplicates removed string: hoel\n"
          ]
        }
      ]
    },
    {
      "cell_type": "markdown",
      "source": [
        "## Longest Word in a Sentence"
      ],
      "metadata": {
        "id": "pbHEsPmzfxJ6"
      }
    },
    {
      "cell_type": "code",
      "source": [
        "s1=input('enter sentence : ')\n",
        "k= s1.split(' ')\n",
        "maxi=k[0]\n",
        "for i in k:\n",
        "  if len(i)>len(maxi):\n",
        "    maxi=i\n",
        "print(f'longest word is {maxi}')"
      ],
      "metadata": {
        "colab": {
          "base_uri": "https://localhost:8080/"
        },
        "id": "AWCtefMEeqDQ",
        "outputId": "41d67ef8-55c1-4b07-f78e-3e4afed302e8"
      },
      "execution_count": null,
      "outputs": [
        {
          "output_type": "stream",
          "name": "stdout",
          "text": [
            "enter sentence : Hi i m krishna and i good\n",
            "longest word is krishna\n"
          ]
        }
      ]
    },
    {
      "cell_type": "markdown",
      "source": [
        "## Character Frequency"
      ],
      "metadata": {
        "id": "rPApIslegn3g"
      }
    },
    {
      "cell_type": "code",
      "source": [
        "def metadata(s):\n",
        "  dic=dict()\n",
        "  for i in s:\n",
        "    if i in dic.keys():\n",
        "      dic[i]+=1\n",
        "    else:\n",
        "      dic[i]=1\n",
        "  print(dic)\n",
        "s1=input('enter string 1 : ')\n",
        "metadata(s1)"
      ],
      "metadata": {
        "colab": {
          "base_uri": "https://localhost:8080/"
        },
        "id": "jnSfD3pFfevm",
        "outputId": "058ecc33-d3ca-415e-ae3b-71066ce06e75"
      },
      "execution_count": null,
      "outputs": [
        {
          "output_type": "stream",
          "name": "stdout",
          "text": [
            "enter string 1 : hello world\n",
            "{'h': 1, 'e': 1, 'l': 3, 'o': 2, ' ': 1, 'w': 1, 'r': 1, 'd': 1}\n"
          ]
        }
      ]
    },
    {
      "cell_type": "markdown",
      "source": [
        "## First Non-Repeating Character"
      ],
      "metadata": {
        "id": "-b0qWpj3g6ZE"
      }
    },
    {
      "cell_type": "code",
      "source": [
        "def metadata(s):\n",
        "  dic=dict()\n",
        "  for i in s:\n",
        "    if i in dic.keys():\n",
        "      dic[i]+=1\n",
        "    else:\n",
        "      dic[i]=1\n",
        "  for i in dic.keys():\n",
        "    if dic[i]==1:\n",
        "      return i\n",
        "  return None\n",
        "s1=input('enter string 1 : ')\n",
        "metadata(s1)"
      ],
      "metadata": {
        "colab": {
          "base_uri": "https://localhost:8080/",
          "height": 54
        },
        "id": "yU0ZYa5XfjTr",
        "outputId": "4fcdaa2f-3fca-4d27-abfb-2d24eec1df06"
      },
      "execution_count": null,
      "outputs": [
        {
          "name": "stdout",
          "output_type": "stream",
          "text": [
            "enter string 1 : krishna k\n"
          ]
        },
        {
          "output_type": "execute_result",
          "data": {
            "text/plain": [
              "'r'"
            ],
            "application/vnd.google.colaboratory.intrinsic+json": {
              "type": "string"
            }
          },
          "metadata": {},
          "execution_count": 97
        }
      ]
    },
    {
      "cell_type": "markdown",
      "source": [
        "## Title Case Conversion"
      ],
      "metadata": {
        "id": "Ah2NBhovhS2L"
      }
    },
    {
      "cell_type": "code",
      "source": [
        "s1=input('enter string 1 : ')\n",
        "print(f'title case of \\n\"{s1}\" is \"{s1.title()}\"')"
      ],
      "metadata": {
        "colab": {
          "base_uri": "https://localhost:8080/"
        },
        "id": "tTae1c50hMqg",
        "outputId": "0c2b539c-24ec-4e61-b1ef-fc89466027c5"
      },
      "execution_count": null,
      "outputs": [
        {
          "output_type": "stream",
          "name": "stdout",
          "text": [
            "enter string 1 : krishnam vande jagadgurum\n",
            "title case of \n",
            "\"krishnam vande jagadgurum\" is \"Krishnam Vande Jagadgurum\"\n"
          ]
        }
      ]
    },
    {
      "cell_type": "markdown",
      "source": [
        "## Palindrome Check"
      ],
      "metadata": {
        "id": "0c5Q6A23htvI"
      }
    },
    {
      "cell_type": "code",
      "source": [
        "s1=input('enter string 1 : ')\n",
        "if s1 == s1[::-1]:\n",
        "  print('palindrome')\n",
        "else:\n",
        "  print('not a palindrome')"
      ],
      "metadata": {
        "colab": {
          "base_uri": "https://localhost:8080/"
        },
        "id": "bqv-wgVIhcNS",
        "outputId": "28dc6dd2-5c06-4028-d59a-fe8b59a6adb0"
      },
      "execution_count": null,
      "outputs": [
        {
          "output_type": "stream",
          "name": "stdout",
          "text": [
            "enter string 1 : ollo\n",
            "palindrome\n"
          ]
        }
      ]
    },
    {
      "cell_type": "markdown",
      "source": [
        "# Lists"
      ],
      "metadata": {
        "id": "nWW5obV-h8Sj"
      }
    },
    {
      "cell_type": "markdown",
      "source": [
        "## Find Maximum and Minimum"
      ],
      "metadata": {
        "id": "9x2v6QAZl-Z3"
      }
    },
    {
      "cell_type": "code",
      "source": [
        "lis=list(map(int,input('enter the numbers :').split()))\n",
        "print(f'max = {max(lis)}')\n",
        "print(f'min = {min(lis)}')"
      ],
      "metadata": {
        "colab": {
          "base_uri": "https://localhost:8080/"
        },
        "id": "ZfKkp3e0hzNY",
        "outputId": "e9245b88-71cf-4d48-85a2-59b8fba1a2bc"
      },
      "execution_count": null,
      "outputs": [
        {
          "output_type": "stream",
          "name": "stdout",
          "text": [
            "enter the numbers :4 5 532 6 -4\n",
            "max = 532\n",
            "min = -4\n"
          ]
        }
      ]
    },
    {
      "cell_type": "markdown",
      "source": [
        "## List Reversal"
      ],
      "metadata": {
        "id": "zT-Oj-wcnYUW"
      }
    },
    {
      "cell_type": "code",
      "source": [
        "lis=list(input('enter the chars :').split())\n",
        "lis=lis[::-1]\n",
        "print(lis)"
      ],
      "metadata": {
        "colab": {
          "base_uri": "https://localhost:8080/"
        },
        "id": "ZvKfW6n5mRFq",
        "outputId": "90321411-cbd9-42ac-b044-a1803411011c"
      },
      "execution_count": null,
      "outputs": [
        {
          "output_type": "stream",
          "name": "stdout",
          "text": [
            "enter the chars :1632 t6r 564r\n",
            "['564r', 't6r', '1632']\n"
          ]
        }
      ]
    },
    {
      "cell_type": "markdown",
      "source": [
        "## Remove Duplicates from List with maintaining order"
      ],
      "metadata": {
        "id": "D_ymbBTBntvN"
      }
    },
    {
      "cell_type": "code",
      "source": [
        "lis=list(input('enter the chars :').split())\n",
        "kis=list(lis[0])\n",
        "for i in lis:\n",
        "  if i not in kis:\n",
        "    kis.append(i)\n",
        "\n",
        "print(kis)"
      ],
      "metadata": {
        "colab": {
          "base_uri": "https://localhost:8080/"
        },
        "id": "MBWc9yiYm-wV",
        "outputId": "f31f687a-4ad2-4bf9-b2f1-9927a7b7b739"
      },
      "execution_count": null,
      "outputs": [
        {
          "output_type": "stream",
          "name": "stdout",
          "text": [
            "enter the chars :1 2 4 1 4 5 63\n",
            "['1', '2', '4', '5', '63']\n"
          ]
        }
      ]
    },
    {
      "cell_type": "markdown",
      "source": [
        "## List Rotation"
      ],
      "metadata": {
        "id": "QApblsRko_St"
      }
    },
    {
      "cell_type": "code",
      "source": [
        "lis=list(input('enter the chars :').split())\n",
        "rot=int(input('enter the rotation :'))\n",
        "rotated_lis=lis[rot%len(lis):]+lis[:rot%len(lis)]\n",
        "print(f'roated list by {rot} is \\n',rotated_lis)"
      ],
      "metadata": {
        "colab": {
          "base_uri": "https://localhost:8080/"
        },
        "id": "cznc0T1ZoU0G",
        "outputId": "c907fd88-484f-40a0-b239-2c36a76f4750"
      },
      "execution_count": null,
      "outputs": [
        {
          "output_type": "stream",
          "name": "stdout",
          "text": [
            "enter the chars :jkdf23 1d 425 5\n",
            "enter the rotation :2\n",
            "roated list by 2 is \n",
            " ['425', '5', 'jkdf23', '1d']\n"
          ]
        }
      ]
    },
    {
      "cell_type": "markdown",
      "source": [
        "## Find Common Elements"
      ],
      "metadata": {
        "id": "HHksqYvz0m0K"
      }
    },
    {
      "cell_type": "code",
      "source": [
        "lis1=list(input('enter the chars :').split())\n",
        "lis2=list(input('enter the chars :').split())\n",
        "print(f'common elements are {list(set(lis1).intersection(lis2))}')"
      ],
      "metadata": {
        "colab": {
          "base_uri": "https://localhost:8080/"
        },
        "id": "yjo3rQ_u0glC",
        "outputId": "cb7de4f1-6aa0-48ca-8a05-46eb828c1b03"
      },
      "execution_count": null,
      "outputs": [
        {
          "output_type": "stream",
          "name": "stdout",
          "text": [
            "enter the chars :1 2 46 2\n",
            "enter the chars :1 46 5\n",
            "common elements are ['46', '1']\n"
          ]
        }
      ]
    },
    {
      "cell_type": "markdown",
      "source": [
        "## List Sorting without Built-in Methods"
      ],
      "metadata": {
        "id": "1cE9oYiA05gG"
      }
    },
    {
      "cell_type": "code",
      "source": [
        "lis=list(map(int,input('enter the nums :').split()))\n",
        "def merge_sort(lst):\n",
        "    if len(lst) <= 1:\n",
        "        return lst\n",
        "\n",
        "    mid = len(lst) // 2\n",
        "    left = merge_sort(lst[:mid])\n",
        "    right = merge_sort(lst[mid:])\n",
        "\n",
        "    return merge(left, right)\n",
        "\n",
        "def merge(left, right):\n",
        "    sorted_list = []\n",
        "    i = j = 0\n",
        "    while i < len(left) and j < len(right):\n",
        "        if left[i] <= right[j]:\n",
        "            sorted_list.append(left[i])\n",
        "            i += 1\n",
        "        else:\n",
        "            sorted_list.append(right[j])\n",
        "            j += 1\n",
        "\n",
        "    sorted_list.extend(left[i:])\n",
        "    sorted_list.extend(right[j:])\n",
        "\n",
        "    return sorted_list\n",
        "\n",
        "\n",
        "sorted_lst = merge_sort(lis)\n",
        "print(\"Sorted list:\", sorted_lst)\n"
      ],
      "metadata": {
        "colab": {
          "base_uri": "https://localhost:8080/"
        },
        "id": "MYEYMybC0zlW",
        "outputId": "5a8728af-ab2d-4477-fdd4-a5c34e5462ed"
      },
      "execution_count": null,
      "outputs": [
        {
          "output_type": "stream",
          "name": "stdout",
          "text": [
            "enter the nums :1 556 61 2\n",
            "Sorted list: [1, 2, 61, 556]\n"
          ]
        }
      ]
    },
    {
      "cell_type": "markdown",
      "source": [
        "## Pair with Sum"
      ],
      "metadata": {
        "id": "GFdqxNoN1fOS"
      }
    },
    {
      "cell_type": "code",
      "source": [
        "def find_pairs(lst, target):\n",
        "    seen = set()\n",
        "    pairs = set()\n",
        "    for num in lst:\n",
        "        complement = target - num\n",
        "        if complement in seen:\n",
        "            pairs.add(tuple(sorted((num, complement))))\n",
        "        seen.add(num)\n",
        "\n",
        "    return list(pairs)\n",
        "\n",
        "lis=list(map(int,input('enter the nums :').split()))\n",
        "target = 6\n",
        "result = find_pairs(lis, target)\n",
        "print(\"Pairs with sum\", target, \":\", result)\n"
      ],
      "metadata": {
        "colab": {
          "base_uri": "https://localhost:8080/"
        },
        "id": "qjuOecXq1e4y",
        "outputId": "e89ed001-06ef-48a2-a1d9-f7cc30917eae"
      },
      "execution_count": null,
      "outputs": [
        {
          "output_type": "stream",
          "name": "stdout",
          "text": [
            "enter the nums :1 2 3 4 5\n",
            "Pairs with sum 6 : [(2, 4), (1, 5)]\n"
          ]
        }
      ]
    },
    {
      "cell_type": "markdown",
      "source": [
        "## Flatten Nested List"
      ],
      "metadata": {
        "id": "B0MVGXt82WJN"
      }
    },
    {
      "cell_type": "code",
      "source": [
        "nested = [1, [2, [3, 4], 5], 6]\n",
        "flat=[]\n",
        "temp=nested[:]\n",
        "while temp:\n",
        "  i=temp.pop(0)\n",
        "  if isinstance(i,list):\n",
        "    temp=i+temp\n",
        "  else:\n",
        "    flat.append(i)\n",
        "print(flat)\n"
      ],
      "metadata": {
        "colab": {
          "base_uri": "https://localhost:8080/"
        },
        "id": "YeJrY8li1JTW",
        "outputId": "b61eeab2-3ea5-40ba-8f7b-eb12e9b75257"
      },
      "execution_count": null,
      "outputs": [
        {
          "output_type": "stream",
          "name": "stdout",
          "text": [
            "[1, 2, 3, 4, 5, 6]\n"
          ]
        }
      ]
    },
    {
      "cell_type": "code",
      "source": [
        "flat=[]\n",
        "def flter(lis):\n",
        "  for i in lis:\n",
        "    if isinstance(i,list):\n",
        "      flter(i)\n",
        "    else:\n",
        "      flat.append(i)\n",
        "\n",
        "nested = [1, [2, [3, 4], 5], 6]\n",
        "\n",
        "flter(nested)\n",
        "\n",
        "print(flat)"
      ],
      "metadata": {
        "colab": {
          "base_uri": "https://localhost:8080/"
        },
        "id": "PxpDPt1_5XeB",
        "outputId": "a4845635-6fb2-4d07-bc83-96533b039a92"
      },
      "execution_count": null,
      "outputs": [
        {
          "output_type": "stream",
          "name": "stdout",
          "text": [
            "[1, 2, 3, 4, 5, 6]\n"
          ]
        }
      ]
    },
    {
      "cell_type": "markdown",
      "source": [
        "## Cumulative Sum"
      ],
      "metadata": {
        "id": "BcynhX822rsK"
      }
    },
    {
      "cell_type": "code",
      "source": [
        "lis=list(map(int,input('enter the nums :').split()))\n",
        "cum_sum=[]\n",
        "cum_sum.append(lis[0])\n",
        "for i in range(1,len(lis)):\n",
        "  cum_sum.append(cum_sum[i-1]+lis[i])\n",
        "print(cum_sum)"
      ],
      "metadata": {
        "colab": {
          "base_uri": "https://localhost:8080/"
        },
        "id": "_wvLwAh66Icj",
        "outputId": "b9dd708f-bf6f-42cd-a15b-028ebdbe9d96"
      },
      "execution_count": null,
      "outputs": [
        {
          "output_type": "stream",
          "name": "stdout",
          "text": [
            "enter the nums :1 2 3 4 5\n",
            "[1, 3, 6, 10, 15]\n"
          ]
        }
      ]
    },
    {
      "cell_type": "markdown",
      "source": [
        "## Second Largest Element"
      ],
      "metadata": {
        "id": "3d1peBll6sqO"
      }
    },
    {
      "cell_type": "code",
      "source": [
        "lis=list(map(int,input('enter the nums :').split()))\n",
        "maxi= lis[0]\n",
        "smaxi=-1\n",
        "for i in range(len(lis)):\n",
        "  if lis[i]>maxi:\n",
        "    smaxi=maxi\n",
        "    maxi=lis[i]\n",
        "  elif smaxi<lis[i]<maxi:\n",
        "    smaxi=lis[i]\n",
        "print(f'second largest element is {smaxi}')\n",
        "\n"
      ],
      "metadata": {
        "colab": {
          "base_uri": "https://localhost:8080/"
        },
        "id": "E8jszpT16f0z",
        "outputId": "7cbe7e3a-b97e-404e-f971-a5a68aaa75d4"
      },
      "execution_count": null,
      "outputs": [
        {
          "output_type": "stream",
          "name": "stdout",
          "text": [
            "enter the nums :4 5 5 5 2 3 4\n",
            "second largest element is 4\n"
          ]
        }
      ]
    },
    {
      "cell_type": "markdown",
      "source": [
        "# Programs on Functions"
      ],
      "metadata": {
        "id": "m8f7B4f49Z1s"
      }
    },
    {
      "cell_type": "markdown",
      "source": [
        "## Write a function to calculate the factorial of a number."
      ],
      "metadata": {
        "id": "N1js21Ie9bvt"
      }
    },
    {
      "cell_type": "code",
      "source": [
        "def fact(n):\n",
        "    if n < 0:\n",
        "        return 'error'\n",
        "    if n in [0,1]:\n",
        "        return 1\n",
        "    result = 1\n",
        "    for i in range(1, n + 1):\n",
        "        result *= i\n",
        "    return result\n",
        "\n",
        "print(fact(4))\n"
      ],
      "metadata": {
        "colab": {
          "base_uri": "https://localhost:8080/"
        },
        "id": "njKq9mcx9Taa",
        "outputId": "aeb79eca-5824-4af4-90b1-96223523cb6c"
      },
      "execution_count": null,
      "outputs": [
        {
          "output_type": "stream",
          "name": "stdout",
          "text": [
            "24\n"
          ]
        }
      ]
    },
    {
      "cell_type": "markdown",
      "source": [
        "## Create a function to check if a number is prime"
      ],
      "metadata": {
        "id": "IQTXeV0A-Lt1"
      }
    },
    {
      "cell_type": "code",
      "source": [
        "import math\n",
        "\n",
        "def is_prime(x):\n",
        "    if x <= 1:\n",
        "        return False\n",
        "    for i in range(2, int(math.sqrt(x)) + 1):\n",
        "        if x % i == 0:\n",
        "            return False\n",
        "    return True\n",
        "\n",
        "\n",
        "x = int(input(\"Enter a number: \"))\n",
        "if is_prime(x):\n",
        "    print(f\"{x} is a prime number\")\n",
        "else:\n",
        "    print(f\"{x} is not a prime number\")\n"
      ],
      "metadata": {
        "colab": {
          "base_uri": "https://localhost:8080/"
        },
        "id": "jiCBNKVf96qV",
        "outputId": "5d182aac-d660-425e-f5ee-9df69dc718ae"
      },
      "execution_count": null,
      "outputs": [
        {
          "output_type": "stream",
          "name": "stdout",
          "text": [
            "Enter a number: 6\n",
            "6 is not a prime number\n"
          ]
        }
      ]
    },
    {
      "cell_type": "markdown",
      "source": [
        "## Write a function to find the greatest common divisor (GCD) of two numbers."
      ],
      "metadata": {
        "id": "P13XIDwE-YeA"
      }
    },
    {
      "cell_type": "code",
      "source": [
        "m_i, m_j = map(int, input(\"Enter two numbers: \").split())\n",
        "i=max(m_i,m_j)\n",
        "j=min(m_i,m_j)\n",
        "while i%j!=0:\n",
        "  i,j=j,i%j\n",
        "print(f'GCD of {m_i} and {m_j} is {j}')\n"
      ],
      "metadata": {
        "colab": {
          "base_uri": "https://localhost:8080/"
        },
        "id": "KVlkZAfM-TNL",
        "outputId": "1aecc646-b5cd-4b2e-f0c2-97591fe4e90e"
      },
      "execution_count": null,
      "outputs": [
        {
          "output_type": "stream",
          "name": "stdout",
          "text": [
            "Enter two numbers: 4 5\n",
            "GCD of 4 and 5 is 1\n"
          ]
        }
      ]
    },
    {
      "cell_type": "markdown",
      "source": [
        "## revese string"
      ],
      "metadata": {
        "id": "qGPFvX3T_r_D"
      }
    },
    {
      "cell_type": "code",
      "source": [
        "def rev(stri):\n",
        "  return stri[::-1]\n",
        "print(rev('hello'))"
      ],
      "metadata": {
        "colab": {
          "base_uri": "https://localhost:8080/"
        },
        "id": "fKg1dHrT-f7U",
        "outputId": "071d2389-53fe-43ac-f1d8-1327aef3a961"
      },
      "execution_count": null,
      "outputs": [
        {
          "output_type": "stream",
          "name": "stdout",
          "text": [
            "olleh\n"
          ]
        }
      ]
    },
    {
      "cell_type": "markdown",
      "source": [
        "## fibonacci"
      ],
      "metadata": {
        "id": "ruPBomjcAN4-"
      }
    },
    {
      "cell_type": "code",
      "source": [
        "def fibonacci_sequence(level):\n",
        "    if level <= 0:\n",
        "        print(\"Enter a positive number greater than 0\")\n",
        "        return\n",
        "    elif level == 1:\n",
        "        print(\"Fibonacci Sequence: 0\")\n",
        "        return\n",
        "    elif level == 2:\n",
        "        print(\"Fibonacci Sequence: 0  1\")\n",
        "        return\n",
        "\n",
        "    print(\"Fibonacci Sequence: 0  1\", end='  ')\n",
        "    p = 0\n",
        "    c = 1\n",
        "    for _ in range(level - 2):\n",
        "        t = c\n",
        "        c = c + p\n",
        "        p = t\n",
        "        print(f\"{c}\", end='  ')\n",
        "    print()\n",
        "x = int(input(\"Enter the level of Fibonacci: \"))\n",
        "fibonacci_sequence(x)\n"
      ],
      "metadata": {
        "colab": {
          "base_uri": "https://localhost:8080/"
        },
        "id": "P8Twc2xr_9kr",
        "outputId": "3cbd79fa-f4a4-415e-9389-180b7f55f392"
      },
      "execution_count": null,
      "outputs": [
        {
          "output_type": "stream",
          "name": "stdout",
          "text": [
            "Enter the level of Fibonacci: 5\n",
            "Fibonacci Sequence: 0  1  1  2  3  \n"
          ]
        }
      ]
    },
    {
      "cell_type": "markdown",
      "source": [
        "## Create a function to check if a string is a palindrome"
      ],
      "metadata": {
        "id": "_1782O_rAX_d"
      }
    },
    {
      "cell_type": "code",
      "source": [
        "def ispalindrome(stri):\n",
        "  if stri == stri[::-1]:\n",
        "    return 'is a palindrome'\n",
        "  else:\n",
        "    return 'is not a palindrome'\n",
        "stri='madam'\n",
        "print(f'{stri} '+ispalindrome(stri))"
      ],
      "metadata": {
        "colab": {
          "base_uri": "https://localhost:8080/"
        },
        "id": "YT-9JdUmAR98",
        "outputId": "82c3ad6e-c482-42d9-ab73-8789022c5c89"
      },
      "execution_count": null,
      "outputs": [
        {
          "output_type": "stream",
          "name": "stdout",
          "text": [
            "madam is a palindrome\n"
          ]
        }
      ]
    },
    {
      "cell_type": "markdown",
      "source": [
        "## celcius to fahreheit"
      ],
      "metadata": {
        "id": "heCA3r7NA9ml"
      }
    },
    {
      "cell_type": "code",
      "source": [
        "def conv(num):\n",
        "  return num*180/100 +32\n",
        "cel=100\n",
        "print(f'{cel} celcius is {conv(cel)} fahreheit')"
      ],
      "metadata": {
        "colab": {
          "base_uri": "https://localhost:8080/"
        },
        "id": "xqWrfavfAvO8",
        "outputId": "6c936bd5-7aec-4c8c-cfbe-5016b72faf01"
      },
      "execution_count": null,
      "outputs": [
        {
          "output_type": "stream",
          "name": "stdout",
          "text": [
            "100 celcius is 212.0 fahreheit\n"
          ]
        }
      ]
    },
    {
      "cell_type": "markdown",
      "source": [
        "## Write a function to count the frequency of each character in a string"
      ],
      "metadata": {
        "id": "agZKIO0sBXfP"
      }
    },
    {
      "cell_type": "code",
      "source": [
        "def metadata(s):\n",
        "  dic=dict()\n",
        "  for i in s:\n",
        "    if i in dic.keys():\n",
        "      dic[i]+=1\n",
        "    else:\n",
        "      dic[i]=1\n",
        "  print(dic)\n",
        "s1=input('enter string 1 : ')\n",
        "metadata(s1)"
      ],
      "metadata": {
        "colab": {
          "base_uri": "https://localhost:8080/"
        },
        "id": "siyvbY_yBS99",
        "outputId": "00b59e0a-bc19-4b5f-9ef5-e53c65033c15"
      },
      "execution_count": null,
      "outputs": [
        {
          "output_type": "stream",
          "name": "stdout",
          "text": [
            "enter string 1 : 4 3 323 3\n",
            "{'4': 1, ' ': 3, '3': 4, '2': 1}\n"
          ]
        }
      ]
    },
    {
      "cell_type": "markdown",
      "source": [
        "## sum of even"
      ],
      "metadata": {
        "id": "cTEAD2yvCruL"
      }
    },
    {
      "cell_type": "code",
      "source": [
        "def sum_of_evens(lst):\n",
        "    return sum(num for num in lst if num % 2 == 0)\n",
        "\n",
        "print(sum_of_evens([1, 2, 3, 4, 5, 6]))\n"
      ],
      "metadata": {
        "colab": {
          "base_uri": "https://localhost:8080/"
        },
        "id": "TFp85doECGpl",
        "outputId": "3ac0b4ab-3849-4205-e1e3-062ee1db0a0f"
      },
      "execution_count": null,
      "outputs": [
        {
          "output_type": "stream",
          "name": "stdout",
          "text": [
            "12\n"
          ]
        }
      ]
    },
    {
      "cell_type": "markdown",
      "source": [
        "## rect perim"
      ],
      "metadata": {
        "id": "ZGXE5ZB8CzlT"
      }
    },
    {
      "cell_type": "code",
      "source": [
        "def rectangle_area_perimeter(length, width):\n",
        "    area = length * width\n",
        "    perimeter = 2 * (length + width)\n",
        "    return area, perimeter\n",
        "\n",
        "a, p = rectangle_area_perimeter(5, 3)\n",
        "print(f\"Area: {a}, Perimeter: {p}\")\n"
      ],
      "metadata": {
        "colab": {
          "base_uri": "https://localhost:8080/"
        },
        "id": "FPwNC97hCWCY",
        "outputId": "fd0d2e14-24ee-40cf-f913-ecdf2f1922a8"
      },
      "execution_count": null,
      "outputs": [
        {
          "output_type": "stream",
          "name": "stdout",
          "text": [
            "Area: 15, Perimeter: 16\n"
          ]
        }
      ]
    },
    {
      "cell_type": "markdown",
      "source": [
        "## Function to calculate compound interest"
      ],
      "metadata": {
        "id": "8EP1GAH-C6HF"
      }
    },
    {
      "cell_type": "code",
      "source": [
        "def compound_interest(principal, rate, time, n):\n",
        "\n",
        "    amount = principal * (1 + rate / (100 * n)) ** (n * time)\n",
        "    interest = amount - principal\n",
        "    return round(interest, 2)\n",
        "\n",
        "ci = compound_interest(1000, 5, 2, 4)\n",
        "print(f\"Compound Interest: {ci}\")\n"
      ],
      "metadata": {
        "colab": {
          "base_uri": "https://localhost:8080/"
        },
        "id": "loSswxAPC2Qc",
        "outputId": "05fd32d0-72a3-4b8d-fe80-416d7c05463d"
      },
      "execution_count": null,
      "outputs": [
        {
          "output_type": "stream",
          "name": "stdout",
          "text": [
            "Compound Interest: 104.49\n"
          ]
        }
      ]
    },
    {
      "cell_type": "markdown",
      "source": [
        "## Write a function to merge and sort two lists"
      ],
      "metadata": {
        "id": "4yqKAxFdDNsT"
      }
    },
    {
      "cell_type": "code",
      "source": [
        "lis=list(map(int,input('enter the nums :').split()))\n",
        "def merge_sort(lst):\n",
        "    if len(lst) <= 1:\n",
        "        return lst\n",
        "\n",
        "    mid = len(lst) // 2\n",
        "    left = merge_sort(lst[:mid])\n",
        "    right = merge_sort(lst[mid:])\n",
        "\n",
        "    return merge(left, right)\n",
        "\n",
        "def merge(left, right):\n",
        "    sorted_list = []\n",
        "    i = j = 0\n",
        "    while i < len(left) and j < len(right):\n",
        "        if left[i] <= right[j]:\n",
        "            sorted_list.append(left[i])\n",
        "            i += 1\n",
        "        else:\n",
        "            sorted_list.append(right[j])\n",
        "            j += 1\n",
        "\n",
        "    sorted_list.extend(left[i:])\n",
        "    sorted_list.extend(right[j:])\n",
        "\n",
        "    return sorted_list\n",
        "\n",
        "\n",
        "sorted_lst = merge_sort(lis)\n",
        "print(\"Sorted list:\", sorted_lst)\n"
      ],
      "metadata": {
        "colab": {
          "base_uri": "https://localhost:8080/"
        },
        "id": "huZbcI8UDDCt",
        "outputId": "8d0603ab-71ac-4565-9616-3abf1c85ddc6"
      },
      "execution_count": null,
      "outputs": [
        {
          "output_type": "stream",
          "name": "stdout",
          "text": [
            "enter the nums :4 5 6 12 1\n",
            "Sorted list: [1, 4, 5, 6, 12]\n"
          ]
        }
      ]
    },
    {
      "cell_type": "markdown",
      "source": [
        "## Create a function to return the second largest number in a list"
      ],
      "metadata": {
        "id": "5ZENHRDBEa_a"
      }
    },
    {
      "cell_type": "code",
      "source": [
        "def second_largest_element(lis):\n",
        "    if len(lis) < 2:\n",
        "        return \"List needs at least 2 elements\"\n",
        "\n",
        "    maxi = lis[0]\n",
        "    smaxi = float('-inf')\n",
        "\n",
        "    for num in lis[1:]:\n",
        "        if num > maxi:\n",
        "            smaxi = maxi\n",
        "            maxi = num\n",
        "        elif smaxi < num < maxi:\n",
        "            smaxi = num\n",
        "\n",
        "    if smaxi == float('-inf'):\n",
        "        return \"No second largest (all elements equal?)\"\n",
        "    return smaxi\n",
        "\n",
        "nums = list(map(int, input(\"Enter the nums: \").split()))\n",
        "result = second_largest_element(nums)\n",
        "print(f\"Second largest element is: {result}\")\n"
      ],
      "metadata": {
        "colab": {
          "base_uri": "https://localhost:8080/"
        },
        "id": "EHXzRDEODU9e",
        "outputId": "57118883-a8b0-4a71-d460-37d8ffbc8bb6"
      },
      "execution_count": null,
      "outputs": [
        {
          "output_type": "stream",
          "name": "stdout",
          "text": [
            "Enter the nums: 5 54 32 35 7\n",
            "Second largest element is: 35\n"
          ]
        }
      ]
    },
    {
      "cell_type": "markdown",
      "source": [
        "## Find Longest Word in a Sentence"
      ],
      "metadata": {
        "id": "MBj-jK87FWqi"
      }
    },
    {
      "cell_type": "code",
      "source": [
        "def longest_word(sentence):\n",
        "    words = sentence.split()\n",
        "    longest = \"\"\n",
        "    for word in words:\n",
        "        if len(word) > len(longest):\n",
        "            longest = word\n",
        "    return longest\n",
        "\n",
        "\n",
        "print(longest_word(\"krishnam vande jagadgurm\"))\n"
      ],
      "metadata": {
        "colab": {
          "base_uri": "https://localhost:8080/"
        },
        "id": "R9pRQ0A3E8xi",
        "outputId": "89d181d9-5d81-4451-9756-498fb3726a9e"
      },
      "execution_count": null,
      "outputs": [
        {
          "output_type": "stream",
          "name": "stdout",
          "text": [
            "jagadgurm\n"
          ]
        }
      ]
    },
    {
      "cell_type": "markdown",
      "source": [
        "## leap year"
      ],
      "metadata": {
        "id": "313iWbk_F7L9"
      }
    },
    {
      "cell_type": "code",
      "source": [
        "def is_leap_year(year):\n",
        "    return (year % 4 == 0 and year % 100 != 0) or (year % 400 == 0)\n",
        "\n",
        "print(is_leap_year(2024))\n"
      ],
      "metadata": {
        "colab": {
          "base_uri": "https://localhost:8080/"
        },
        "id": "s3u3DvtvFrM3",
        "outputId": "e9d5518d-a05a-48cc-88be-ce068fa123f7"
      },
      "execution_count": null,
      "outputs": [
        {
          "output_type": "stream",
          "name": "stdout",
          "text": [
            "True\n"
          ]
        }
      ]
    },
    {
      "cell_type": "markdown",
      "source": [
        "## sum of digits in a number"
      ],
      "metadata": {
        "id": "e3d7JT8qF_hN"
      }
    },
    {
      "cell_type": "code",
      "source": [
        "def digisum(num):\n",
        "  sum=0\n",
        "  temp=num\n",
        "  while temp>0:\n",
        "    sum+=temp%10\n",
        "    temp//=10\n",
        "  return sum\n",
        "print(digisum(12345))"
      ],
      "metadata": {
        "colab": {
          "base_uri": "https://localhost:8080/"
        },
        "id": "O7EqVC5PF6NZ",
        "outputId": "c181c4a8-d5c4-456f-c5df-a2c87a1bd116"
      },
      "execution_count": null,
      "outputs": [
        {
          "output_type": "stream",
          "name": "stdout",
          "text": [
            "15\n"
          ]
        }
      ]
    },
    {
      "cell_type": "markdown",
      "source": [
        "## Create a function to generate a list of random numbers"
      ],
      "metadata": {
        "id": "Z697FvvKGVP2"
      }
    },
    {
      "cell_type": "code",
      "source": [
        "import numpy as np\n",
        "def randm(num):\n",
        "  lis=np.random.rand(num)\n",
        "  print(lis)\n",
        "randm(3)"
      ],
      "metadata": {
        "colab": {
          "base_uri": "https://localhost:8080/"
        },
        "id": "PEkipSgIGSCV",
        "outputId": "63bfce47-9eeb-4ed8-e3e1-01f7ab81caa1"
      },
      "execution_count": null,
      "outputs": [
        {
          "output_type": "stream",
          "name": "stdout",
          "text": [
            "[0.5439166  0.78047961 0.01643771]\n"
          ]
        }
      ]
    },
    {
      "cell_type": "markdown",
      "source": [
        "## count vowels and conso"
      ],
      "metadata": {
        "id": "EiGxOpxjG3XY"
      }
    },
    {
      "cell_type": "code",
      "source": [
        "def count_vowels_consonants(s):\n",
        "    vowels = \"aeiou\"\n",
        "    s = s.lower().strip()\n",
        "    vowel_count = 0\n",
        "    consonant_count = 0\n",
        "\n",
        "    for ch in s:\n",
        "        if ch.isalpha():\n",
        "            if ch in vowels:\n",
        "                vowel_count += 1\n",
        "            else:\n",
        "                consonant_count += 1\n",
        "\n",
        "    return vowel_count, consonant_count\n",
        "\n",
        "v, c = count_vowels_consonants(\"Hello World!\")\n",
        "print(f\"Vowels: {v}, Consonants: {c}\")"
      ],
      "metadata": {
        "colab": {
          "base_uri": "https://localhost:8080/"
        },
        "id": "9Be32NX0GumB",
        "outputId": "36f2396e-8d87-4794-9497-e58887068fab"
      },
      "execution_count": null,
      "outputs": [
        {
          "output_type": "stream",
          "name": "stdout",
          "text": [
            "Vowels: 3, Consonants: 7\n"
          ]
        }
      ]
    },
    {
      "cell_type": "markdown",
      "source": [
        "## Cal avg"
      ],
      "metadata": {
        "id": "i4NsJFJdHJi5"
      }
    },
    {
      "cell_type": "code",
      "source": [
        "def average_of_list(numbers):\n",
        "    if not numbers:\n",
        "        return 0\n",
        "    return sum(numbers) / len(numbers)\n",
        "\n",
        "\n",
        "nums = [10, 20, 30, 40]\n",
        "avg = average_of_list(nums)\n",
        "print(f\"Average: {avg}\")\n"
      ],
      "metadata": {
        "colab": {
          "base_uri": "https://localhost:8080/"
        },
        "id": "Nh2UEQ85HBku",
        "outputId": "761fb6ec-afbc-4cb2-8244-6a8983a6dd55"
      },
      "execution_count": null,
      "outputs": [
        {
          "output_type": "stream",
          "name": "stdout",
          "text": [
            "Average: 25.0\n"
          ]
        }
      ]
    },
    {
      "cell_type": "markdown",
      "source": [
        "# Programs on Modules"
      ],
      "metadata": {
        "id": "IwWR-1leHTqd"
      }
    },
    {
      "cell_type": "markdown",
      "source": [
        "## Create a module for basic mathematical operations (add, subtract, multiply, divide) and use it in a program"
      ],
      "metadata": {
        "id": "kpeQhApTHgrn"
      }
    },
    {
      "cell_type": "code",
      "source": [
        "class basic:\n",
        "    def add(self, a, b):\n",
        "        return a + b\n",
        "\n",
        "    def subtract(self, a, b):\n",
        "        return a - b\n",
        "\n",
        "    def multiply(self, a, b):\n",
        "        return a * b\n",
        "\n",
        "    def divide(self, a, b):\n",
        "        return \"Cannot divide by zero\" if b == 0 else a / b\n"
      ],
      "metadata": {
        "id": "Wfdql-_yHQXT"
      },
      "execution_count": null,
      "outputs": []
    },
    {
      "cell_type": "markdown",
      "source": [
        "## Create a module for string manipulation functions (reverse, palindrome check, count vowels)."
      ],
      "metadata": {
        "id": "293n7hp4IO9t"
      }
    },
    {
      "cell_type": "code",
      "source": [
        "class Stri:\n",
        "    def reverse(self, s):\n",
        "        return s[::-1]\n",
        "\n",
        "    def is_palindrome(self, s):\n",
        "        s = s.lower().replace(\" \", \"\")\n",
        "        return s == s[::-1]\n",
        "\n",
        "    def count_vowels(self, s):\n",
        "        vowels = \"aeiou\"\n",
        "        return sum(1 for ch in s.lower() if ch in vowels)"
      ],
      "metadata": {
        "id": "fzYzfL-VIM9D"
      },
      "execution_count": null,
      "outputs": []
    },
    {
      "cell_type": "markdown",
      "source": [
        "## Write a program to use the math module for trigonometric calculations."
      ],
      "metadata": {
        "id": "xi8ASMaHIYN_"
      }
    },
    {
      "cell_type": "code",
      "source": [
        "import math\n",
        "\n",
        "class Trigonometry:\n",
        "    def sin(self, deg):\n",
        "        return math.sin(math.radians(deg))\n",
        "\n",
        "    def cos(self, deg):\n",
        "        return math.cos(math.radians(deg))\n",
        "\n",
        "    def tan(self, deg):\n",
        "        return math.tan(math.radians(deg))\n",
        "\n",
        "    def cot(self, deg):\n",
        "        return 1/math.tan(math.radians(deg))"
      ],
      "metadata": {
        "id": "zgzg1HThIVjd"
      },
      "execution_count": null,
      "outputs": []
    },
    {
      "cell_type": "markdown",
      "source": [
        "## Write a program to use the random module to generate a random password."
      ],
      "metadata": {
        "id": "e6gVhcOAI04p"
      }
    },
    {
      "cell_type": "code",
      "source": [
        "import random\n",
        "import string\n",
        "\n",
        "class PasswordGenerator:\n",
        "    def generate(self, length=8):\n",
        "        pool = string.ascii_letters + string.digits\n",
        "        return ''.join(random.choices(pool, k=length))\n",
        "\n"
      ],
      "metadata": {
        "id": "4gaDHgdTI2v4"
      },
      "execution_count": null,
      "outputs": []
    },
    {
      "cell_type": "markdown",
      "source": [
        "## Create a module to calculate areas of geometric shapes (circle, rectangle, triangle) and import it."
      ],
      "metadata": {
        "id": "ViFh3tLdJMLh"
      }
    },
    {
      "cell_type": "code",
      "source": [
        "import math\n",
        "\n",
        "class Geometry:\n",
        "    def area_circle(self, radius):\n",
        "        return math.pi * radius ** 2\n",
        "\n",
        "    def area_rectangle(self, length, width):\n",
        "        return length * width\n",
        "\n",
        "    def area_triangle(self, base, height):\n",
        "        return 0.5 * base * height\n"
      ],
      "metadata": {
        "id": "B5TxrTAhIcue"
      },
      "execution_count": null,
      "outputs": []
    },
    {
      "cell_type": "code",
      "source": [
        "from datetime import datetime\n",
        "\n",
        "class DateTimeUtility:\n",
        "    def current_datetime(self):\n",
        "        now = datetime.now()\n",
        "        return now.strftime(\"%Y-%m-%d %H:%M:%S\")"
      ],
      "metadata": {
        "id": "Dsd_QK6eJWx7"
      },
      "execution_count": null,
      "outputs": []
    },
    {
      "cell_type": "code",
      "source": [
        "now = datetime.now()\n",
        "now.strftime(\"%Y-%m-%d %H:%M:%S\")"
      ],
      "metadata": {
        "colab": {
          "base_uri": "https://localhost:8080/",
          "height": 35
        },
        "id": "QGfqppr8JpRV",
        "outputId": "c8a1e23c-05bb-420a-a133-4aebe3976172"
      },
      "execution_count": null,
      "outputs": [
        {
          "output_type": "execute_result",
          "data": {
            "text/plain": [
              "'2025-06-06 12:11:08'"
            ],
            "application/vnd.google.colaboratory.intrinsic+json": {
              "type": "string"
            }
          },
          "metadata": {},
          "execution_count": 185
        }
      ]
    },
    {
      "cell_type": "markdown",
      "source": [
        "## Write a program to use the os module to list all files in a directory.\n"
      ],
      "metadata": {
        "id": "YJeoXlFEJ0-V"
      }
    },
    {
      "cell_type": "code",
      "source": [
        "import os\n",
        "\n",
        "class FileManager:\n",
        "    def list_files(self, path='.'):\n",
        "        return os.listdir(path)\n"
      ],
      "metadata": {
        "id": "Cw4zcTyVJv_U"
      },
      "execution_count": null,
      "outputs": []
    },
    {
      "cell_type": "markdown",
      "source": [
        "## Create a module to handle file operations (read, write, append) and use it."
      ],
      "metadata": {
        "id": "A9MrQFkoJ-v_"
      }
    },
    {
      "cell_type": "code",
      "source": [
        "class FileOps:\n",
        "    def read(self, filename):\n",
        "        with open(filename, 'r') as f:\n",
        "            return f.read()\n",
        "\n",
        "    def write(self, filename, data):\n",
        "        with open(filename, 'w') as f:\n",
        "            f.write(data)\n",
        "\n",
        "    def append(self, filename, data):\n",
        "        with open(filename, 'a') as f:\n",
        "            f.write(data)\n"
      ],
      "metadata": {
        "id": "tEcLT61yJ6BN"
      },
      "execution_count": null,
      "outputs": []
    },
    {
      "cell_type": "markdown",
      "source": [
        "## Write a program to use the statistics module to calculate mean, median, and mode of a dataset."
      ],
      "metadata": {
        "id": "NddzMFh8KFwo"
      }
    },
    {
      "cell_type": "code",
      "source": [
        "import statistics\n",
        "\n",
        "class Stats:\n",
        "    def mean(self, data):\n",
        "        return statistics.mean(data)\n",
        "\n",
        "    def median(self, data):\n",
        "        return statistics.median(data)\n",
        "\n",
        "    def mode(self, data):\n",
        "        return statistics.mode(data)\n"
      ],
      "metadata": {
        "id": "u9PU4YsUKCSN"
      },
      "execution_count": null,
      "outputs": []
    },
    {
      "cell_type": "markdown",
      "source": [
        "## Create a module for converting units (length, weight, temperature) and use it in a program."
      ],
      "metadata": {
        "id": "C2wql10PKVQg"
      }
    },
    {
      "cell_type": "code",
      "source": [
        "class UnitConverter:\n",
        "    def celsius_to_fahrenheit(self, c):\n",
        "        return (c * 9/5) + 32\n",
        "\n",
        "    def km_to_miles(self, km):\n",
        "        return km * 0.621371\n",
        "\n",
        "    def kg_to_pounds(self, kg):\n",
        "        return kg * 2.20462\n"
      ],
      "metadata": {
        "id": "-Gq5emkAKR4M"
      },
      "execution_count": null,
      "outputs": []
    }
  ]
}