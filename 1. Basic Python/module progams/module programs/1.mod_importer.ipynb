{
 "cells": [
  {
   "cell_type": "code",
   "execution_count": 1,
   "id": "990f7c0d",
   "metadata": {},
   "outputs": [
    {
     "name": "stdout",
     "output_type": "stream",
     "text": [
      "['1. MODULE IMPORTER.py', '1.mod_importer.ipynb', 'file.py', 'fileops.py', 'geom.py', 'mathop.py', 'password.py', 'stats.py', 'stringop.py', 'temparature.py', 'time.py', 'trignom.py', '__pycache__']\n"
     ]
    }
   ],
   "source": [
    "from file import list_files\n",
    "\n",
    "print(list_files())  "
   ]
  },
  {
   "cell_type": "code",
   "execution_count": 2,
   "id": "249113ad",
   "metadata": {},
   "outputs": [
    {
     "name": "stdout",
     "output_type": "stream",
     "text": [
      "78.53981633974483\n",
      "15\n"
     ]
    }
   ],
   "source": [
    "from geom import area_circle,area_rectangle\n",
    "print(area_circle(5))\n",
    "print(area_rectangle(5,3))"
   ]
  },
  {
   "cell_type": "code",
   "execution_count": 15,
   "id": "40185aef",
   "metadata": {},
   "outputs": [
    {
     "name": "stdout",
     "output_type": "stream",
     "text": [
      "Jai Sri Krishna\n"
     ]
    }
   ],
   "source": [
    "import importlib\n",
    "import fileops\n",
    "importlib.reload(fileops)\n",
    "from fileops import read, write, append\n",
    "\n",
    "content = read('samp.txt')\n",
    "print(content)"
   ]
  },
  {
   "cell_type": "code",
   "execution_count": 17,
   "id": "b0e8937f",
   "metadata": {},
   "outputs": [
    {
     "data": {
      "text/plain": [
       "212.0"
      ]
     },
     "execution_count": 17,
     "metadata": {},
     "output_type": "execute_result"
    }
   ],
   "source": [
    "from temparature import *\n",
    "\n",
    "celsius_to_fahrenheit(100)"
   ]
  }
 ],
 "metadata": {
  "kernelspec": {
   "display_name": "Python 3",
   "language": "python",
   "name": "python3"
  },
  "language_info": {
   "codemirror_mode": {
    "name": "ipython",
    "version": 3
   },
   "file_extension": ".py",
   "mimetype": "text/x-python",
   "name": "python",
   "nbconvert_exporter": "python",
   "pygments_lexer": "ipython3",
   "version": "3.12.10"
  }
 },
 "nbformat": 4,
 "nbformat_minor": 5
}
