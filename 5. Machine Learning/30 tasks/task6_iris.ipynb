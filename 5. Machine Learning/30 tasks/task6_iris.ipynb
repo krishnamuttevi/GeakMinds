{
 "cells": [
  {
   "cell_type": "code",
   "execution_count": 77,
   "id": "c596aabc",
   "metadata": {},
   "outputs": [],
   "source": [
    "import numpy as np\n",
    "import pandas as pd\n",
    "import matplotlib.pyplot as plt\n",
    "import seaborn as sns\n",
    "\n",
    "index=[\"sepal length \",\n",
    "\"sepal width \",\n",
    "\"petal length\", \n",
    "\"petal width\",\n",
    "\"class\"]\n",
    "\n",
    "df=pd.read_csv(r\"D:\\GeakMinds Internship\\real world projects\\datasets\\iris\\iris.data\",names=index)"
   ]
  },
  {
   "cell_type": "code",
   "execution_count": 78,
   "id": "d18134ab",
   "metadata": {},
   "outputs": [
    {
     "data": {
      "text/html": [
       "<div>\n",
       "<style scoped>\n",
       "    .dataframe tbody tr th:only-of-type {\n",
       "        vertical-align: middle;\n",
       "    }\n",
       "\n",
       "    .dataframe tbody tr th {\n",
       "        vertical-align: top;\n",
       "    }\n",
       "\n",
       "    .dataframe thead th {\n",
       "        text-align: right;\n",
       "    }\n",
       "</style>\n",
       "<table border=\"1\" class=\"dataframe\">\n",
       "  <thead>\n",
       "    <tr style=\"text-align: right;\">\n",
       "      <th></th>\n",
       "      <th>sepal length</th>\n",
       "      <th>sepal width</th>\n",
       "      <th>petal length</th>\n",
       "      <th>petal width</th>\n",
       "      <th>class</th>\n",
       "    </tr>\n",
       "  </thead>\n",
       "  <tbody>\n",
       "    <tr>\n",
       "      <th>0</th>\n",
       "      <td>5.1</td>\n",
       "      <td>3.5</td>\n",
       "      <td>1.4</td>\n",
       "      <td>0.2</td>\n",
       "      <td>Iris-setosa</td>\n",
       "    </tr>\n",
       "    <tr>\n",
       "      <th>1</th>\n",
       "      <td>4.9</td>\n",
       "      <td>3.0</td>\n",
       "      <td>1.4</td>\n",
       "      <td>0.2</td>\n",
       "      <td>Iris-setosa</td>\n",
       "    </tr>\n",
       "    <tr>\n",
       "      <th>2</th>\n",
       "      <td>4.7</td>\n",
       "      <td>3.2</td>\n",
       "      <td>1.3</td>\n",
       "      <td>0.2</td>\n",
       "      <td>Iris-setosa</td>\n",
       "    </tr>\n",
       "    <tr>\n",
       "      <th>3</th>\n",
       "      <td>4.6</td>\n",
       "      <td>3.1</td>\n",
       "      <td>1.5</td>\n",
       "      <td>0.2</td>\n",
       "      <td>Iris-setosa</td>\n",
       "    </tr>\n",
       "    <tr>\n",
       "      <th>4</th>\n",
       "      <td>5.0</td>\n",
       "      <td>3.6</td>\n",
       "      <td>1.4</td>\n",
       "      <td>0.2</td>\n",
       "      <td>Iris-setosa</td>\n",
       "    </tr>\n",
       "  </tbody>\n",
       "</table>\n",
       "</div>"
      ],
      "text/plain": [
       "   sepal length   sepal width   petal length  petal width        class\n",
       "0            5.1           3.5           1.4          0.2  Iris-setosa\n",
       "1            4.9           3.0           1.4          0.2  Iris-setosa\n",
       "2            4.7           3.2           1.3          0.2  Iris-setosa\n",
       "3            4.6           3.1           1.5          0.2  Iris-setosa\n",
       "4            5.0           3.6           1.4          0.2  Iris-setosa"
      ]
     },
     "execution_count": 78,
     "metadata": {},
     "output_type": "execute_result"
    }
   ],
   "source": [
    "df.head()"
   ]
  },
  {
   "cell_type": "code",
   "execution_count": 79,
   "id": "f1c7884d",
   "metadata": {},
   "outputs": [
    {
     "data": {
      "text/plain": [
       "(150, 5)"
      ]
     },
     "execution_count": 79,
     "metadata": {},
     "output_type": "execute_result"
    }
   ],
   "source": [
    "df.shape"
   ]
  },
  {
   "cell_type": "code",
   "execution_count": 80,
   "id": "fa05520a",
   "metadata": {},
   "outputs": [
    {
     "data": {
      "text/plain": [
       "sepal length     0\n",
       "sepal width      0\n",
       "petal length     0\n",
       "petal width      0\n",
       "class            0\n",
       "dtype: int64"
      ]
     },
     "execution_count": 80,
     "metadata": {},
     "output_type": "execute_result"
    }
   ],
   "source": [
    "df.isnull().sum()"
   ]
  },
  {
   "cell_type": "code",
   "execution_count": 81,
   "id": "c356cdf7",
   "metadata": {},
   "outputs": [
    {
     "data": {
      "text/plain": [
       "array([[<Axes: title={'center': 'sepal length '}>,\n",
       "        <Axes: title={'center': 'sepal width '}>],\n",
       "       [<Axes: title={'center': 'petal length'}>,\n",
       "        <Axes: title={'center': 'petal width'}>]], dtype=object)"
      ]
     },
     "execution_count": 81,
     "metadata": {},
     "output_type": "execute_result"
    },
    {
     "data": {
      "image/png": "[encoded data removed]",
      "text/plain": [
       "<Figure size 640x480 with 4 Axes>"
      ]
     },
     "metadata": {},
     "output_type": "display_data"
    }
   ],
   "source": [
    "df.hist()"
   ]
  },
  {
   "cell_type": "code",
   "execution_count": 82,
   "id": "6c628dae",
   "metadata": {},
   "outputs": [
    {
     "data": {
      "text/html": [
       "<div>\n",
       "<style scoped>\n",
       "    .dataframe tbody tr th:only-of-type {\n",
       "        vertical-align: middle;\n",
       "    }\n",
       "\n",
       "    .dataframe tbody tr th {\n",
       "        vertical-align: top;\n",
       "    }\n",
       "\n",
       "    .dataframe thead th {\n",
       "        text-align: right;\n",
       "    }\n",
       "</style>\n",
       "<table border=\"1\" class=\"dataframe\">\n",
       "  <thead>\n",
       "    <tr style=\"text-align: right;\">\n",
       "      <th></th>\n",
       "      <th>sepal length</th>\n",
       "      <th>sepal width</th>\n",
       "      <th>petal length</th>\n",
       "      <th>petal width</th>\n",
       "      <th>class</th>\n",
       "    </tr>\n",
       "  </thead>\n",
       "  <tbody>\n",
       "    <tr>\n",
       "      <th>0</th>\n",
       "      <td>5.1</td>\n",
       "      <td>3.5</td>\n",
       "      <td>1.4</td>\n",
       "      <td>0.2</td>\n",
       "      <td>Iris-setosa</td>\n",
       "    </tr>\n",
       "    <tr>\n",
       "      <th>1</th>\n",
       "      <td>4.9</td>\n",
       "      <td>3.0</td>\n",
       "      <td>1.4</td>\n",
       "      <td>0.2</td>\n",
       "      <td>Iris-setosa</td>\n",
       "    </tr>\n",
       "    <tr>\n",
       "      <th>2</th>\n",
       "      <td>4.7</td>\n",
       "      <td>3.2</td>\n",
       "      <td>1.3</td>\n",
       "      <td>0.2</td>\n",
       "      <td>Iris-setosa</td>\n",
       "    </tr>\n",
       "    <tr>\n",
       "      <th>3</th>\n",
       "      <td>4.6</td>\n",
       "      <td>3.1</td>\n",
       "      <td>1.5</td>\n",
       "      <td>0.2</td>\n",
       "      <td>Iris-setosa</td>\n",
       "    </tr>\n",
       "    <tr>\n",
       "      <th>4</th>\n",
       "      <td>5.0</td>\n",
       "      <td>3.6</td>\n",
       "      <td>1.4</td>\n",
       "      <td>0.2</td>\n",
       "      <td>Iris-setosa</td>\n",
       "    </tr>\n",
       "    <tr>\n",
       "      <th>...</th>\n",
       "      <td>...</td>\n",
       "      <td>...</td>\n",
       "      <td>...</td>\n",
       "      <td>...</td>\n",
       "      <td>...</td>\n",
       "    </tr>\n",
       "    <tr>\n",
       "      <th>145</th>\n",
       "      <td>6.7</td>\n",
       "      <td>3.0</td>\n",
       "      <td>5.2</td>\n",
       "      <td>2.3</td>\n",
       "      <td>Iris-virginica</td>\n",
       "    </tr>\n",
       "    <tr>\n",
       "      <th>146</th>\n",
       "      <td>6.3</td>\n",
       "      <td>2.5</td>\n",
       "      <td>5.0</td>\n",
       "      <td>1.9</td>\n",
       "      <td>Iris-virginica</td>\n",
       "    </tr>\n",
       "    <tr>\n",
       "      <th>147</th>\n",
       "      <td>6.5</td>\n",
       "      <td>3.0</td>\n",
       "      <td>5.2</td>\n",
       "      <td>2.0</td>\n",
       "      <td>Iris-virginica</td>\n",
       "    </tr>\n",
       "    <tr>\n",
       "      <th>148</th>\n",
       "      <td>6.2</td>\n",
       "      <td>3.4</td>\n",
       "      <td>5.4</td>\n",
       "      <td>2.3</td>\n",
       "      <td>Iris-virginica</td>\n",
       "    </tr>\n",
       "    <tr>\n",
       "      <th>149</th>\n",
       "      <td>5.9</td>\n",
       "      <td>3.0</td>\n",
       "      <td>5.1</td>\n",
       "      <td>1.8</td>\n",
       "      <td>Iris-virginica</td>\n",
       "    </tr>\n",
       "  </tbody>\n",
       "</table>\n",
       "<p>150 rows × 5 columns</p>\n",
       "</div>"
      ],
      "text/plain": [
       "     sepal length   sepal width   petal length  petal width           class\n",
       "0              5.1           3.5           1.4          0.2     Iris-setosa\n",
       "1              4.9           3.0           1.4          0.2     Iris-setosa\n",
       "2              4.7           3.2           1.3          0.2     Iris-setosa\n",
       "3              4.6           3.1           1.5          0.2     Iris-setosa\n",
       "4              5.0           3.6           1.4          0.2     Iris-setosa\n",
       "..             ...           ...           ...          ...             ...\n",
       "145            6.7           3.0           5.2          2.3  Iris-virginica\n",
       "146            6.3           2.5           5.0          1.9  Iris-virginica\n",
       "147            6.5           3.0           5.2          2.0  Iris-virginica\n",
       "148            6.2           3.4           5.4          2.3  Iris-virginica\n",
       "149            5.9           3.0           5.1          1.8  Iris-virginica\n",
       "\n",
       "[150 rows x 5 columns]"
      ]
     },
     "execution_count": 82,
     "metadata": {},
     "output_type": "execute_result"
    }
   ],
   "source": [
    "df"
   ]
  },
  {
   "cell_type": "code",
   "execution_count": null,
   "id": "870756ab",
   "metadata": {},
   "outputs": [],
   "source": [
    "df_log = df.drop(columns='class').apply(np.log1p)"
   ]
  },
  {
   "cell_type": "code",
   "execution_count": 84,
   "id": "b7610e0f",
   "metadata": {},
   "outputs": [],
   "source": [
    "df_log['class']=df['class']"
   ]
  },
  {
   "cell_type": "code",
   "execution_count": 85,
   "id": "dc5f7132",
   "metadata": {},
   "outputs": [
    {
     "data": {
      "text/plain": [
       "0         Iris-setosa\n",
       "1         Iris-setosa\n",
       "2         Iris-setosa\n",
       "3         Iris-setosa\n",
       "4         Iris-setosa\n",
       "            ...      \n",
       "145    Iris-virginica\n",
       "146    Iris-virginica\n",
       "147    Iris-virginica\n",
       "148    Iris-virginica\n",
       "149    Iris-virginica\n",
       "Name: class, Length: 150, dtype: object"
      ]
     },
     "execution_count": 85,
     "metadata": {},
     "output_type": "execute_result"
    }
   ],
   "source": [
    "df_log['class']"
   ]
  },
  {
   "cell_type": "code",
   "execution_count": 86,
   "id": "a22d7ae9",
   "metadata": {},
   "outputs": [],
   "source": [
    "from sklearn.preprocessing import StandardScaler as sca\n",
    "scaler = sca()       \n",
    "df_scaled = pd.DataFrame(\n",
    "    scaler.fit_transform(df_log.drop(columns='class')),\n",
    "    columns=df_log.drop(columns='class').columns,\n",
    "    index=df_log.index\n",
    ")\n",
    "\n",
    "df_scaled['class'] = df_log['class']"
   ]
  },
  {
   "cell_type": "code",
   "execution_count": 87,
   "id": "01cd045b",
   "metadata": {},
   "outputs": [
    {
     "data": {
      "text/html": [
       "<div>\n",
       "<style scoped>\n",
       "    .dataframe tbody tr th:only-of-type {\n",
       "        vertical-align: middle;\n",
       "    }\n",
       "\n",
       "    .dataframe tbody tr th {\n",
       "        vertical-align: top;\n",
       "    }\n",
       "\n",
       "    .dataframe thead th {\n",
       "        text-align: right;\n",
       "    }\n",
       "</style>\n",
       "<table border=\"1\" class=\"dataframe\">\n",
       "  <thead>\n",
       "    <tr style=\"text-align: right;\">\n",
       "      <th></th>\n",
       "      <th>sepal length</th>\n",
       "      <th>sepal width</th>\n",
       "      <th>petal length</th>\n",
       "      <th>petal width</th>\n",
       "      <th>class</th>\n",
       "    </tr>\n",
       "  </thead>\n",
       "  <tbody>\n",
       "    <tr>\n",
       "      <th>0</th>\n",
       "      <td>-0.898502</td>\n",
       "      <td>1.035145</td>\n",
       "      <td>-1.411502</td>\n",
       "      <td>-1.404824</td>\n",
       "      <td>Iris-setosa</td>\n",
       "    </tr>\n",
       "    <tr>\n",
       "      <th>1</th>\n",
       "      <td>-1.176422</td>\n",
       "      <td>-0.073026</td>\n",
       "      <td>-1.411502</td>\n",
       "      <td>-1.404824</td>\n",
       "      <td>Iris-setosa</td>\n",
       "    </tr>\n",
       "    <tr>\n",
       "      <th>2</th>\n",
       "      <td>-1.463927</td>\n",
       "      <td>0.386020</td>\n",
       "      <td>-1.511327</td>\n",
       "      <td>-1.404824</td>\n",
       "      <td>Iris-setosa</td>\n",
       "    </tr>\n",
       "    <tr>\n",
       "      <th>3</th>\n",
       "      <td>-1.611485</td>\n",
       "      <td>0.159297</td>\n",
       "      <td>-1.315752</td>\n",
       "      <td>-1.404824</td>\n",
       "      <td>Iris-setosa</td>\n",
       "    </tr>\n",
       "    <tr>\n",
       "      <th>4</th>\n",
       "      <td>-1.036304</td>\n",
       "      <td>1.241935</td>\n",
       "      <td>-1.411502</td>\n",
       "      <td>-1.404824</td>\n",
       "      <td>Iris-setosa</td>\n",
       "    </tr>\n",
       "    <tr>\n",
       "      <th>...</th>\n",
       "      <td>...</td>\n",
       "      <td>...</td>\n",
       "      <td>...</td>\n",
       "      <td>...</td>\n",
       "      <td>...</td>\n",
       "    </tr>\n",
       "    <tr>\n",
       "      <th>145</th>\n",
       "      <td>1.043407</td>\n",
       "      <td>-0.073026</td>\n",
       "      <td>0.814615</td>\n",
       "      <td>1.240559</td>\n",
       "      <td>Iris-virginica</td>\n",
       "    </tr>\n",
       "    <tr>\n",
       "      <th>146</th>\n",
       "      <td>0.598671</td>\n",
       "      <td>-1.329366</td>\n",
       "      <td>0.737705</td>\n",
       "      <td>0.902664</td>\n",
       "      <td>Iris-virginica</td>\n",
       "    </tr>\n",
       "    <tr>\n",
       "      <th>147</th>\n",
       "      <td>0.824005</td>\n",
       "      <td>-0.073026</td>\n",
       "      <td>0.814615</td>\n",
       "      <td>0.991319</td>\n",
       "      <td>Iris-virginica</td>\n",
       "    </tr>\n",
       "    <tr>\n",
       "      <th>148</th>\n",
       "      <td>0.483679</td>\n",
       "      <td>0.823708</td>\n",
       "      <td>0.889083</td>\n",
       "      <td>1.240559</td>\n",
       "      <td>Iris-virginica</td>\n",
       "    </tr>\n",
       "    <tr>\n",
       "      <th>149</th>\n",
       "      <td>0.128867</td>\n",
       "      <td>-0.073026</td>\n",
       "      <td>0.776475</td>\n",
       "      <td>0.810899</td>\n",
       "      <td>Iris-virginica</td>\n",
       "    </tr>\n",
       "  </tbody>\n",
       "</table>\n",
       "<p>150 rows × 5 columns</p>\n",
       "</div>"
      ],
      "text/plain": [
       "     sepal length   sepal width   petal length  petal width           class\n",
       "0        -0.898502      1.035145     -1.411502    -1.404824     Iris-setosa\n",
       "1        -1.176422     -0.073026     -1.411502    -1.404824     Iris-setosa\n",
       "2        -1.463927      0.386020     -1.511327    -1.404824     Iris-setosa\n",
       "3        -1.611485      0.159297     -1.315752    -1.404824     Iris-setosa\n",
       "4        -1.036304      1.241935     -1.411502    -1.404824     Iris-setosa\n",
       "..             ...           ...           ...          ...             ...\n",
       "145       1.043407     -0.073026      0.814615     1.240559  Iris-virginica\n",
       "146       0.598671     -1.329366      0.737705     0.902664  Iris-virginica\n",
       "147       0.824005     -0.073026      0.814615     0.991319  Iris-virginica\n",
       "148       0.483679      0.823708      0.889083     1.240559  Iris-virginica\n",
       "149       0.128867     -0.073026      0.776475     0.810899  Iris-virginica\n",
       "\n",
       "[150 rows x 5 columns]"
      ]
     },
     "execution_count": 87,
     "metadata": {},
     "output_type": "execute_result"
    }
   ],
   "source": [
    "df_scaled"
   ]
  },
  {
   "cell_type": "code",
   "execution_count": 88,
   "id": "ad549177",
   "metadata": {},
   "outputs": [
    {
     "data": {
      "text/plain": [
       "array([[<Axes: title={'center': 'sepal length '}>,\n",
       "        <Axes: title={'center': 'sepal width '}>],\n",
       "       [<Axes: title={'center': 'petal length'}>,\n",
       "        <Axes: title={'center': 'petal width'}>]], dtype=object)"
      ]
     },
     "execution_count": 88,
     "metadata": {},
     "output_type": "execute_result"
    },
    {
     "data": {
      "image/png": "[encoded data removed]",
      "text/plain": [
       "<Figure size 640x480 with 4 Axes>"
      ]
     },
     "metadata": {},
     "output_type": "display_data"
    }
   ],
   "source": [
    "df_scaled.drop(columns='class').hist()"
   ]
  },
  {
   "cell_type": "code",
   "execution_count": 89,
   "id": "5cff2567",
   "metadata": {},
   "outputs": [
    {
     "data": {
      "text/plain": [
       "<Axes: >"
      ]
     },
     "execution_count": 89,
     "metadata": {},
     "output_type": "execute_result"
    },
    {
     "data": {
      "image/png": "[encoded data removed]",
      "text/plain": [
       "<Figure size 640x480 with 2 Axes>"
      ]
     },
     "metadata": {},
     "output_type": "display_data"
    }
   ],
   "source": [
    "cor=df_scaled.drop(columns='class').corr()\n",
    "sns.heatmap(cor,annot=True)"
   ]
  },
  {
   "cell_type": "code",
   "execution_count": 90,
   "id": "aeef2012",
   "metadata": {},
   "outputs": [],
   "source": [
    "df_new=pd.get_dummies(df_scaled,columns=['class'])"
   ]
  },
  {
   "cell_type": "code",
   "execution_count": 91,
   "id": "f411ca07",
   "metadata": {},
   "outputs": [
    {
     "data": {
      "text/html": [
       "<div>\n",
       "<style scoped>\n",
       "    .dataframe tbody tr th:only-of-type {\n",
       "        vertical-align: middle;\n",
       "    }\n",
       "\n",
       "    .dataframe tbody tr th {\n",
       "        vertical-align: top;\n",
       "    }\n",
       "\n",
       "    .dataframe thead th {\n",
       "        text-align: right;\n",
       "    }\n",
       "</style>\n",
       "<table border=\"1\" class=\"dataframe\">\n",
       "  <thead>\n",
       "    <tr style=\"text-align: right;\">\n",
       "      <th></th>\n",
       "      <th>sepal length</th>\n",
       "      <th>sepal width</th>\n",
       "      <th>petal length</th>\n",
       "      <th>petal width</th>\n",
       "      <th>class_Iris-setosa</th>\n",
       "      <th>class_Iris-versicolor</th>\n",
       "      <th>class_Iris-virginica</th>\n",
       "    </tr>\n",
       "  </thead>\n",
       "  <tbody>\n",
       "    <tr>\n",
       "      <th>0</th>\n",
       "      <td>-0.898502</td>\n",
       "      <td>1.035145</td>\n",
       "      <td>-1.411502</td>\n",
       "      <td>-1.404824</td>\n",
       "      <td>True</td>\n",
       "      <td>False</td>\n",
       "      <td>False</td>\n",
       "    </tr>\n",
       "    <tr>\n",
       "      <th>1</th>\n",
       "      <td>-1.176422</td>\n",
       "      <td>-0.073026</td>\n",
       "      <td>-1.411502</td>\n",
       "      <td>-1.404824</td>\n",
       "      <td>True</td>\n",
       "      <td>False</td>\n",
       "      <td>False</td>\n",
       "    </tr>\n",
       "    <tr>\n",
       "      <th>2</th>\n",
       "      <td>-1.463927</td>\n",
       "      <td>0.386020</td>\n",
       "      <td>-1.511327</td>\n",
       "      <td>-1.404824</td>\n",
       "      <td>True</td>\n",
       "      <td>False</td>\n",
       "      <td>False</td>\n",
       "    </tr>\n",
       "    <tr>\n",
       "      <th>3</th>\n",
       "      <td>-1.611485</td>\n",
       "      <td>0.159297</td>\n",
       "      <td>-1.315752</td>\n",
       "      <td>-1.404824</td>\n",
       "      <td>True</td>\n",
       "      <td>False</td>\n",
       "      <td>False</td>\n",
       "    </tr>\n",
       "    <tr>\n",
       "      <th>4</th>\n",
       "      <td>-1.036304</td>\n",
       "      <td>1.241935</td>\n",
       "      <td>-1.411502</td>\n",
       "      <td>-1.404824</td>\n",
       "      <td>True</td>\n",
       "      <td>False</td>\n",
       "      <td>False</td>\n",
       "    </tr>\n",
       "    <tr>\n",
       "      <th>...</th>\n",
       "      <td>...</td>\n",
       "      <td>...</td>\n",
       "      <td>...</td>\n",
       "      <td>...</td>\n",
       "      <td>...</td>\n",
       "      <td>...</td>\n",
       "      <td>...</td>\n",
       "    </tr>\n",
       "    <tr>\n",
       "      <th>145</th>\n",
       "      <td>1.043407</td>\n",
       "      <td>-0.073026</td>\n",
       "      <td>0.814615</td>\n",
       "      <td>1.240559</td>\n",
       "      <td>False</td>\n",
       "      <td>False</td>\n",
       "      <td>True</td>\n",
       "    </tr>\n",
       "    <tr>\n",
       "      <th>146</th>\n",
       "      <td>0.598671</td>\n",
       "      <td>-1.329366</td>\n",
       "      <td>0.737705</td>\n",
       "      <td>0.902664</td>\n",
       "      <td>False</td>\n",
       "      <td>False</td>\n",
       "      <td>True</td>\n",
       "    </tr>\n",
       "    <tr>\n",
       "      <th>147</th>\n",
       "      <td>0.824005</td>\n",
       "      <td>-0.073026</td>\n",
       "      <td>0.814615</td>\n",
       "      <td>0.991319</td>\n",
       "      <td>False</td>\n",
       "      <td>False</td>\n",
       "      <td>True</td>\n",
       "    </tr>\n",
       "    <tr>\n",
       "      <th>148</th>\n",
       "      <td>0.483679</td>\n",
       "      <td>0.823708</td>\n",
       "      <td>0.889083</td>\n",
       "      <td>1.240559</td>\n",
       "      <td>False</td>\n",
       "      <td>False</td>\n",
       "      <td>True</td>\n",
       "    </tr>\n",
       "    <tr>\n",
       "      <th>149</th>\n",
       "      <td>0.128867</td>\n",
       "      <td>-0.073026</td>\n",
       "      <td>0.776475</td>\n",
       "      <td>0.810899</td>\n",
       "      <td>False</td>\n",
       "      <td>False</td>\n",
       "      <td>True</td>\n",
       "    </tr>\n",
       "  </tbody>\n",
       "</table>\n",
       "<p>150 rows × 7 columns</p>\n",
       "</div>"
      ],
      "text/plain": [
       "     sepal length   sepal width   petal length  petal width  \\\n",
       "0        -0.898502      1.035145     -1.411502    -1.404824   \n",
       "1        -1.176422     -0.073026     -1.411502    -1.404824   \n",
       "2        -1.463927      0.386020     -1.511327    -1.404824   \n",
       "3        -1.611485      0.159297     -1.315752    -1.404824   \n",
       "4        -1.036304      1.241935     -1.411502    -1.404824   \n",
       "..             ...           ...           ...          ...   \n",
       "145       1.043407     -0.073026      0.814615     1.240559   \n",
       "146       0.598671     -1.329366      0.737705     0.902664   \n",
       "147       0.824005     -0.073026      0.814615     0.991319   \n",
       "148       0.483679      0.823708      0.889083     1.240559   \n",
       "149       0.128867     -0.073026      0.776475     0.810899   \n",
       "\n",
       "     class_Iris-setosa  class_Iris-versicolor  class_Iris-virginica  \n",
       "0                 True                  False                 False  \n",
       "1                 True                  False                 False  \n",
       "2                 True                  False                 False  \n",
       "3                 True                  False                 False  \n",
       "4                 True                  False                 False  \n",
       "..                 ...                    ...                   ...  \n",
       "145              False                  False                  True  \n",
       "146              False                  False                  True  \n",
       "147              False                  False                  True  \n",
       "148              False                  False                  True  \n",
       "149              False                  False                  True  \n",
       "\n",
       "[150 rows x 7 columns]"
      ]
     },
     "execution_count": 91,
     "metadata": {},
     "output_type": "execute_result"
    }
   ],
   "source": [
    "df_new"
   ]
  },
  {
   "cell_type": "code",
   "execution_count": 92,
   "id": "a70a77d1",
   "metadata": {},
   "outputs": [],
   "source": [
    "\n",
    "X = df_new.drop(columns=[\n",
    "    'class_Iris-setosa',\n",
    "    'class_Iris-versicolor',\n",
    "    'class_Iris-virginica'\n",
    "])\n",
    "\n",
    "\n",
    "y = df_new[['class_Iris-setosa', 'class_Iris-versicolor', 'class_Iris-virginica']]\n"
   ]
  },
  {
   "cell_type": "code",
   "execution_count": 93,
   "id": "703bfbfa",
   "metadata": {},
   "outputs": [],
   "source": [
    "y_class = np.argmax(y.values, axis=1)"
   ]
  },
  {
   "cell_type": "code",
   "execution_count": 94,
   "id": "5e262eb9",
   "metadata": {},
   "outputs": [],
   "source": [
    "label_map = {0: 'Iris-setosa', 1: 'Iris-versicolor', 2: 'Iris-virginica'}"
   ]
  },
  {
   "cell_type": "code",
   "execution_count": 95,
   "id": "3501b11c",
   "metadata": {},
   "outputs": [],
   "source": [
    "from sklearn.model_selection import train_test_split\n",
    "\n",
    "\n",
    "X_train, X_test, y_train, y_test = train_test_split(\n",
    "    X, y_class, test_size=0.2, random_state=42\n",
    ")"
   ]
  },
  {
   "cell_type": "code",
   "execution_count": 98,
   "id": "b1b6f985",
   "metadata": {},
   "outputs": [
    {
     "name": "stdout",
     "output_type": "stream",
     "text": [
      "Accuracy: 96.66666666666667\n",
      "                 precision    recall  f1-score   support\n",
      "\n",
      "    Iris-setosa       1.00      1.00      1.00        10\n",
      "Iris-versicolor       1.00      0.89      0.94         9\n",
      " Iris-virginica       0.92      1.00      0.96        11\n",
      "\n",
      "       accuracy                           0.97        30\n",
      "      macro avg       0.97      0.96      0.97        30\n",
      "   weighted avg       0.97      0.97      0.97        30\n",
      "\n"
     ]
    }
   ],
   "source": [
    "from sklearn.svm import SVC\n",
    "from sklearn.metrics import accuracy_score, classification_report\n",
    "\n",
    "model = SVC(kernel='linear')  \n",
    "model.fit(X_train, y_train)\n",
    "\n",
    "\n",
    "y_pred = model.predict(X_test)\n",
    "\n",
    "print(\"Accuracy:\", accuracy_score(y_test, y_pred)*100)\n",
    "print(classification_report(y_test, y_pred, target_names=label_map.values()))"
   ]
  },
  {
   "cell_type": "code",
   "execution_count": 97,
   "id": "2d901372",
   "metadata": {},
   "outputs": [
    {
     "name": "stdout",
     "output_type": "stream",
     "text": [
      "Accuracy: 100.0\n",
      "                 precision    recall  f1-score   support\n",
      "\n",
      "    Iris-setosa       1.00      1.00      1.00        10\n",
      "Iris-versicolor       1.00      1.00      1.00         9\n",
      " Iris-virginica       1.00      1.00      1.00        11\n",
      "\n",
      "       accuracy                           1.00        30\n",
      "      macro avg       1.00      1.00      1.00        30\n",
      "   weighted avg       1.00      1.00      1.00        30\n",
      "\n"
     ]
    }
   ],
   "source": [
    "from sklearn.svm import SVC\n",
    "from sklearn.metrics import accuracy_score, classification_report\n",
    "\n",
    "model = SVC(kernel='rbf')  \n",
    "model.fit(X_train, y_train)\n",
    "\n",
    "\n",
    "y_pred = model.predict(X_test)\n",
    "\n",
    "print(\"Accuracy:\", accuracy_score(y_test, y_pred)*100)\n",
    "print(classification_report(y_test, y_pred, target_names=label_map.values()))\n"
   ]
  },
  {
   "cell_type": "markdown",
   "id": "ef66df76",
   "metadata": {},
   "source": [
    "PCA:\n",
    "Centers the data (subtracts the mean)\n",
    "\n",
    "Finds the directions (vectors) of maximum variance\n",
    "\n",
    "Projects the data onto these new directions\n",
    "\n",
    "Keeps the top k components that explain the most variance"
   ]
  },
  {
   "cell_type": "code",
   "execution_count": 71,
   "id": "5c864fe0",
   "metadata": {},
   "outputs": [],
   "source": [
    "from sklearn.model_selection import train_test_split\n",
    "from sklearn.decomposition import PCA\n",
    "\n",
    "pca = PCA(n_components=2)\n",
    "X_pca = pca.fit_transform(X)\n",
    "\n",
    "X_train, X_test, y_train, y_test = train_test_split(\n",
    "    X_pca, y_class, test_size=0.2, random_state=42\n",
    ")"
   ]
  },
  {
   "cell_type": "markdown",
   "id": "5d023a0f",
   "metadata": {},
   "source": [
    "*A kernel function transforms the input data into a higher-dimensional space without explicitly computing the coordinates in that space. This helps SVM find a hyperplane that separates the classes, even when they aren’t linearly separable in the original space.*"
   ]
  },
  {
   "cell_type": "markdown",
   "id": "7afb7ca3",
   "metadata": {},
   "source": [
    "types :\n",
    "\n",
    "'linear' :\tWhen data is roughly linearly separable\n",
    "\n",
    "'poly'\t :For more complex boundaries (e.g., spirals)\n",
    "\n",
    "'rbf'\tRadial Basis Function (a.k.a. Gaussian) — the default\tMost commonly used, handles non-linear problems\n",
    "\n",
    "'sigmoid'\tSimulates a neural network activation function\tRarely used, experimental"
   ]
  },
  {
   "cell_type": "code",
   "execution_count": 76,
   "id": "294565a2",
   "metadata": {},
   "outputs": [
    {
     "name": "stdout",
     "output_type": "stream",
     "text": [
      "Accuracy: 90.0\n",
      "                 precision    recall  f1-score   support\n",
      "\n",
      "    Iris-setosa       1.00      1.00      1.00        10\n",
      "Iris-versicolor       0.88      0.78      0.82         9\n",
      " Iris-virginica       0.83      0.91      0.87        11\n",
      "\n",
      "       accuracy                           0.90        30\n",
      "      macro avg       0.90      0.90      0.90        30\n",
      "   weighted avg       0.90      0.90      0.90        30\n",
      "\n"
     ]
    }
   ],
   "source": [
    "from sklearn.svm import SVC\n",
    "from sklearn.metrics import accuracy_score, classification_report\n",
    "\n",
    "model = SVC(kernel='linear')  \n",
    "model.fit(X_train, y_train)\n",
    "\n",
    "\n",
    "y_pred = model.predict(X_test)\n",
    "\n",
    "print(\"Accuracy:\", accuracy_score(y_test, y_pred)*100)\n",
    "print(classification_report(y_test, y_pred, target_names=label_map.values()))\n"
   ]
  },
  {
   "cell_type": "markdown",
   "id": "f5109220",
   "metadata": {},
   "source": [
    "# final visualization"
   ]
  },
  {
   "cell_type": "code",
   "execution_count": 75,
   "id": "66fff9ce",
   "metadata": {},
   "outputs": [
    {
     "data": {
      "image/png": "[encoded data removed]",
      "text/plain": [
       "<Figure size 800x600 with 1 Axes>"
      ]
     },
     "metadata": {},
     "output_type": "display_data"
    }
   ],
   "source": [
    "\n",
    "h = 0.02\n",
    "x_min, x_max = X_train[:, 0].min() - 1, X_train[:, 0].max() + 1\n",
    "y_min, y_max = X_train[:, 1].min() - 1, X_train[:, 1].max() + 1\n",
    "xx, yy = np.meshgrid(np.arange(x_min, x_max, h),\n",
    "                     np.arange(y_min, y_max, h))\n",
    "\n",
    "# Predict for each grid point\n",
    "Z = model.predict(np.c_[xx.ravel(), yy.ravel()])\n",
    "Z = Z.reshape(xx.shape)\n",
    "\n",
    "# Plot decision regions\n",
    "plt.figure(figsize=(8, 6))\n",
    "plt.contourf(xx, yy, Z, cmap=plt.cm.coolwarm, alpha=0.3)\n",
    "\n",
    "# Plot training data\n",
    "sns.scatterplot(x=X_train[:, 0], y=X_train[:, 1],\n",
    "                hue=[label_map[i] for i in y_train],\n",
    "                palette='dark', edgecolor='k', s=50)\n",
    "\n",
    "plt.xlabel(\"PCA Component 1\")\n",
    "plt.ylabel(\"PCA Component 2\")\n",
    "plt.title(\"SVM Decision Boundary (2D PCA + RBF Kernel)\")\n",
    "plt.legend(title=\"Class\")\n",
    "plt.show()\n"
   ]
  }
 ],
 "metadata": {
  "kernelspec": {
   "display_name": "Python 3",
   "language": "python",
   "name": "python3"
  },
  "language_info": {
   "codemirror_mode": {
    "name": "ipython",
    "version": 3
   },
   "file_extension": ".py",
   "mimetype": "text/x-python",
   "name": "python",
   "nbconvert_exporter": "python",
   "pygments_lexer": "ipython3",
   "version": "3.12.10"
  }
 },
 "nbformat": 4,
 "nbformat_minor": 5
}
